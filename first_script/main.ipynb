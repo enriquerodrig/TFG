{
 "cells": [
  {
   "cell_type": "code",
   "execution_count": 1,
   "metadata": {},
   "outputs": [],
   "source": [
    "import sys\n",
    "import os\n",
    "import argparse\n",
    "import time\n",
    "\n",
    "if os.path.abspath('.') not in sys.path:\n",
    "    sys.path.append(os.path.abspath('.'))"
   ]
  },
  {
   "cell_type": "code",
   "execution_count": 2,
   "metadata": {},
   "outputs": [],
   "source": [
    "from json_handler import handler\n",
    "from linkedin_scrapper import scrapper\n",
    "from email_validator import validator\n",
    "from organigramm import organigramm\n",
    "from pdf_generator import generator"
   ]
  },
  {
   "cell_type": "code",
   "execution_count": 3,
   "metadata": {},
   "outputs": [],
   "source": [
    "# # Define argument parser and parse arguments from console\n",
    "# parser = argparse.ArgumentParser(description='LinkedIn Scraper')\n",
    "# parser.add_argument('name', type=str, help='Name of the company. Example: \"Google\"')\n",
    "# # TODO: Mail pattern first.last firstlast first_last\n",
    "# parser.add_argument('domain', type=str, help='Email domain of the company. Example: \"first.last@gmail.com, flast@gmail.com\"')\n",
    "# parser.add_argument('-o', '--output', type=str, help='Output path. Example: \"./output/\"')\n",
    "# parser.add_argument('-t', '--timeout', type=int, help='Timeout between requests. Example: 5')\n",
    "# # Define wait time between requests - Done\n",
    "# parser.add_argument('-j', '--jitter', type=int, help='Jitter between requests (Prevents bot detection). Example: 2')\n",
    "# # TODO: Number of valid employees wanted\n",
    "# parser.add_argument('-n', '--number', type=int, help='Number of employees to scrap. Example: 10')\n",
    "# parser.add_argument('-c', '--candidates', type=int, help='Number of candidates for phishing to select. Example: 10')\n",
    "# # TODO: Select between O365 and Gmail\n",
    "# parser.add_argument('-m', '--mail-provider', type=str, help='Mail provider against which the emails will be validated. Values: \"Google\" or \"O365\"')\n",
    "# parser.add_argument('-p', '--pdf', action='store_true', help='Generate PDF file')\n",
    "# parser.add_argument('-v', '--verbose', action='store_true', help='Verbose mode')\n",
    "# parser.add_argument('-d', '--directors-board', action='store_true', help='Select all the positions from [Owner, Director, Manager, Administrative, HHRR, Collaborator] you want to print in the report. Example: \"Owner, Director, Manager\"', default='Owner, Director, Manager')\n",
    "# args = parser.parse_args()"
   ]
  },
  {
   "cell_type": "code",
   "execution_count": 4,
   "metadata": {},
   "outputs": [
    {
     "name": "stdout",
     "output_type": "stream",
     "text": [
      "[+] Starting script execution with id: 1679657374\n"
     ]
    }
   ],
   "source": [
    "# Start the script execution \n",
    "name, domain, output_folder, timeout, jitter, n, c, directors_board = 'uah','uah.es','output', 15, 0, 0, 10, ['Owner','Director', 'Manager'] # TODO: Obtain these from parameters\n",
    "id = round(time.time())\n",
    "print('[+] Starting script execution with id: {}'.format(id))"
   ]
  },
  {
   "cell_type": "code",
   "execution_count": 5,
   "metadata": {},
   "outputs": [],
   "source": [
    "# Define and parse parameters to inputs for the first sub-script\n",
    "meta = {'_descriptor':'meta','id':id}\n",
    "inputs = {'_descriptor':'input','name':name}\n",
    "output = {'_descriptor':'output'}\n",
    "# Save the inputs for the first sub-script\n",
    "handler.write_json('data/scrapper-{}.json'.format(id), meta, inputs, output)"
   ]
  },
  {
   "cell_type": "code",
   "execution_count": 6,
   "metadata": {},
   "outputs": [
    {
     "name": "stdout",
     "output_type": "stream",
     "text": [
      "[+] Searching for uah in google...\n",
      "\u001b[01;34m[*]\u001b[0m 99  https://www.google.com/search?q=site:linkedin.com/in+\"uah\"&num=100&start=0 (200)\n",
      "\u001b[01;34m[*]\u001b[0m 198 https://www.google.com/search?q=site:linkedin.com/in+\"uah\"&num=100&start=99 (200)\n",
      "\u001b[01;34m[*]\u001b[0m 250 https://www.google.com/search?q=site:linkedin.com/in+\"uah\"&num=100&start=198 (200)\n",
      "\u001b[01;34m[*]\u001b[0m 250 https://www.google.com/search?q=site:linkedin.com/in+\"uah\"&num=100&start=250 (200)\n",
      "\u001b[01;34m[*]\u001b[0m Target limit reached, exiting search...\n",
      "[+] Searching for uah in bing...\n",
      "\u001b[01;34m[*]\u001b[0m 0   http://www.bing.com/search?q=\"uah\"+site:linkedin.com/in&first=0 (200)\n",
      "\u001b[01;34m[*]\u001b[0m 0   http://www.bing.com/search?q=\"uah\"+site:linkedin.com/in&first=0 (200)\n",
      "\u001b[01;34m[*]\u001b[0m 0   http://www.bing.com/search?q=\"uah\"+site:linkedin.com/in&first=0 (200)\n",
      "\u001b[01;34m[*]\u001b[0m 0   http://www.bing.com/search?q=\"uah\"+site:linkedin.com/in&first=0 (200)\n",
      "\u001b[01;34m[*]\u001b[0m 0   http://www.bing.com/search?q=\"uah\"+site:linkedin.com/in&first=0 (200)\n",
      "\u001b[01;34m[*]\u001b[0m 0   http://www.bing.com/search?q=\"uah\"+site:linkedin.com/in&first=0 (200)\n",
      "\u001b[01;34m[*]\u001b[0m 0   http://www.bing.com/search?q=\"uah\"+site:linkedin.com/in&first=0 (200)\n",
      "\u001b[01;34m[*]\u001b[0m 0   http://www.bing.com/search?q=\"uah\"+site:linkedin.com/in&first=0 (200)\n",
      "\u001b[01;34m[*]\u001b[0m 0   http://www.bing.com/search?q=\"uah\"+site:linkedin.com/in&first=0 (200)\n",
      "\u001b[01;34m[*]\u001b[0m 0   http://www.bing.com/search?q=\"uah\"+site:linkedin.com/in&first=0 (200)\n",
      "\u001b[01;34m[*]\u001b[0m 10  http://www.bing.com/search?q=\"uah\"+site:linkedin.com/in&first=0 (200)\n",
      "\u001b[01;34m[*]\u001b[0m 10  http://www.bing.com/search?q=\"uah\"+site:linkedin.com/in&first=10 (200)\n",
      "\u001b[01;34m[*]\u001b[0m 10  http://www.bing.com/search?q=\"uah\"+site:linkedin.com/in&first=10 (200)\n",
      "\u001b[01;34m[*]\u001b[0m 10  http://www.bing.com/search?q=\"uah\"+site:linkedin.com/in&first=10 (200)\n",
      "\u001b[01;34m[*]\u001b[0m 10  http://www.bing.com/search?q=\"uah\"+site:linkedin.com/in&first=10 (200)\n",
      "\u001b[01;34m[*]\u001b[0m 10  http://www.bing.com/search?q=\"uah\"+site:linkedin.com/in&first=10 (200)\n",
      "\u001b[01;34m[*]\u001b[0m 10  http://www.bing.com/search?q=\"uah\"+site:linkedin.com/in&first=10 (200)\n",
      "\u001b[01;34m[*]\u001b[0m 10  http://www.bing.com/search?q=\"uah\"+site:linkedin.com/in&first=10 (200)\n",
      "\u001b[01;34m[*]\u001b[0m 10  http://www.bing.com/search?q=\"uah\"+site:linkedin.com/in&first=10 (200)\n",
      "\u001b[01;34m[*]\u001b[0m 10  http://www.bing.com/search?q=\"uah\"+site:linkedin.com/in&first=10 (200)\n",
      "\u001b[01;34m[*]\u001b[0m 10  http://www.bing.com/search?q=\"uah\"+site:linkedin.com/in&first=10 (200)\n",
      "\u001b[01;34m[*]\u001b[0m 10  http://www.bing.com/search?q=\"uah\"+site:linkedin.com/in&first=10 (200)\n",
      "\u001b[01;34m[*]\u001b[0m 10  http://www.bing.com/search?q=\"uah\"+site:linkedin.com/in&first=10 (200)\n",
      "\u001b[01;34m[*]\u001b[0m 10  http://www.bing.com/search?q=\"uah\"+site:linkedin.com/in&first=10 (200)\n",
      "\u001b[01;34m[*]\u001b[0m 10  http://www.bing.com/search?q=\"uah\"+site:linkedin.com/in&first=10 (200)\n",
      "\u001b[01;34m[*]\u001b[0m 10  http://www.bing.com/search?q=\"uah\"+site:linkedin.com/in&first=10 (200)\n",
      "\u001b[01;34m[*]\u001b[0m 10  http://www.bing.com/search?q=\"uah\"+site:linkedin.com/in&first=10 (200)\n",
      "\u001b[01;34m[*]\u001b[0m 10  http://www.bing.com/search?q=\"uah\"+site:linkedin.com/in&first=10 (200)\n",
      "\u001b[01;34m[*]\u001b[0m 10  http://www.bing.com/search?q=\"uah\"+site:linkedin.com/in&first=10 (200)\n",
      "\u001b[01;34m[*]\u001b[0m 10  http://www.bing.com/search?q=\"uah\"+site:linkedin.com/in&first=10 (200)\n",
      "\u001b[01;34m[*]\u001b[0m 10  http://www.bing.com/search?q=\"uah\"+site:linkedin.com/in&first=10 (200)\n",
      "\u001b[01;34m[*]\u001b[0m 10  http://www.bing.com/search?q=\"uah\"+site:linkedin.com/in&first=10 (200)\n",
      "\u001b[01;34m[*]\u001b[0m 10  http://www.bing.com/search?q=\"uah\"+site:linkedin.com/in&first=10 (200)\n",
      "\u001b[01;34m[*]\u001b[0m 10  http://www.bing.com/search?q=\"uah\"+site:linkedin.com/in&first=10 (200)\n",
      "\u001b[01;34m[*]\u001b[0m 10  http://www.bing.com/search?q=\"uah\"+site:linkedin.com/in&first=10 (200)\n",
      "\u001b[01;34m[*]\u001b[0m 10  http://www.bing.com/search?q=\"uah\"+site:linkedin.com/in&first=10 (200)\n",
      "\u001b[01;34m[*]\u001b[0m 10  http://www.bing.com/search?q=\"uah\"+site:linkedin.com/in&first=10 (200)\n",
      "\u001b[01;34m[*]\u001b[0m 10  http://www.bing.com/search?q=\"uah\"+site:linkedin.com/in&first=10 (200)\n",
      "\u001b[01;34m[*]\u001b[0m 10  http://www.bing.com/search?q=\"uah\"+site:linkedin.com/in&first=10 (200)\n",
      "\u001b[01;34m[*]\u001b[0m 10  http://www.bing.com/search?q=\"uah\"+site:linkedin.com/in&first=10 (200)\n",
      "\u001b[01;34m[*]\u001b[0m 10  http://www.bing.com/search?q=\"uah\"+site:linkedin.com/in&first=10 (200)\n",
      "\u001b[01;34m[*]\u001b[0m Target limit reached, exiting search...\n",
      "[+] 250 users found in google search engine\n",
      "[+] 10 users found in bing search engine\n",
      "[+] 257 unique employees found\n",
      "[+] Script completed. Writing output to data/scrapper-1679657374.json...\n"
     ]
    }
   ],
   "source": [
    "# Execute the first sub-script\n",
    "scrapper.start('data/scrapper-{}.json'.format(id), timeout=timeout, jitter=jitter, n_employees=n)"
   ]
  },
  {
   "cell_type": "code",
   "execution_count": 7,
   "metadata": {},
   "outputs": [],
   "source": [
    "# Transfer output from the scrapper to the email validator\n",
    "meta, _, outputs = handler.read_json('data/scrapper-{}.json'.format(id))\n",
    "inputs = {'_descriptor':'input','employees':outputs['employees'],'domain':domain}\n",
    "output = {'_descriptor':'output'}\n",
    "# Save the inputs for the email validator\n",
    "handler.write_json('data/validator-{}.json'.format(id), meta, inputs, output)"
   ]
  },
  {
   "cell_type": "code",
   "execution_count": 8,
   "metadata": {},
   "outputs": [
    {
     "name": "stdout",
     "output_type": "stream",
     "text": [
      "[+] Validating emails using the pattern [fname].[lname]@[domain.com] against Google and O365\n",
      "[*] Valid o365 email: Victoria.Tomas@uah.es\n",
      "[*] Valid o365 email: Maria.Martinez@uah.es\n",
      "[*] Valid o365 email: Pablo.Gastaminza@uah.es\n",
      "[*] Valid o365 email: Ana.Guerrero@uah.es\n",
      "[*] Valid o365 email: Laura.Rey@uah.es\n",
      "[*] Valid o365 email: Priscilla.Ramos@uah.es\n",
      "[*] Valid o365 email: Cristina.Martinez@uah.es\n",
      "[*] Valid o365 email: Raimundo.Pastor@uah.es\n",
      "[*] Valid Google email: Alba.Ortiz@uah.es\n",
      "[*] Valid o365 email: manuel.moreno@uah.es\n",
      "[*] Valid o365 email: lorena.pizarro@uah.es\n",
      "[*] Valid o365 email: carlos.lopez@uah.es\n",
      "[*] Valid o365 email: Rosa.Corzo@uah.es\n",
      "[*] Valid o365 email: Ana.Guerrero@uah.es\n",
      "[*] Valid o365 email: Manuel.Moreno@uah.es\n",
      "[*] Valid o365 email: Fernando.Torres@uah.es\n",
      "[*] Valid o365 email: Mercedes.Bengoechea@uah.es\n",
      "[*] Valid o365 email: Augusto.Ballardini@uah.es\n",
      "[*] Valid o365 email: Cristina.zaragoza@uah.es\n",
      "[*] Valid o365 email: Pepa.Rodriguez@uah.es\n",
      "[*] Valid o365 email: Fernando.Fuente@uah.es\n",
      "[*] Valid o365 email: Ana.Nieto@uah.es\n",
      "[*] Valid o365 email: Daniel.Pizarro@uah.es\n",
      "[*] Valid o365 email: Jorge.Perez@uah.es\n",
      "[*] Valid o365 email: manuel.sanchez@uah.es\n",
      "[*] Valid o365 email: Eidy.Fuentes@uah.es\n",
      "[*] Valid o365 email: German.Ros@uah.es\n",
      "[*] Valid o365 email: Alejandro.Arias@uah.es\n",
      "[*] Valid o365 email: Luis.Castilla@uah.es\n",
      "[*] Valid o365 email: Weekenlay.UAH@uah.es\n",
      "[*] Valid o365 email: Adrian.Sastre@uah.es\n",
      "[*] Valid o365 email: Antonio.Cabanillas@uah.es\n",
      "[*] Valid o365 email: Susana.Martinez@uah.es\n",
      "[*] Valid o365 email: Alejandro.Barrientos@uah.es\n",
      "[+] Done! Valid emails saved in data/validator-1679657374.json\n"
     ]
    }
   ],
   "source": [
    "# Execute the email validator\n",
    "validator.start('data/validator-{}.json'.format(id))"
   ]
  },
  {
   "cell_type": "code",
   "execution_count": 9,
   "metadata": {},
   "outputs": [
    {
     "name": "stdout",
     "output_type": "stream",
     "text": [
      "[+] Saved all validated employees to output/employees-1679657374.csv\n"
     ]
    }
   ],
   "source": [
    "# Obtain the output from the email validator\n",
    "meta, _, outputs = handler.read_json('data/validator-{}.json'.format(id))\n",
    "\n",
    "# Save a copy of all validated employees in a csv file\n",
    "headers, rows = handler.json_to_csv(outputs['employees'])\n",
    "handler.write_csv('output/employees-{}.csv'.format(id), rows, headers, separator=';')\n",
    "print('[+] Saved all validated employees to output/employees-{}.csv'.format(id))\n",
    "\n",
    "# Transfer output from the email validator to the organigramm\n",
    "inputs = {'_descriptor':'input','employees':outputs['employees']}\n",
    "output = {'_descriptor':'output'}\n",
    "\n",
    "# Save the inputs for the organigramm script\n",
    "handler.write_json('data/organigramm-{}.json'.format(id), meta, inputs, output)"
   ]
  },
  {
   "cell_type": "code",
   "execution_count": 10,
   "metadata": {},
   "outputs": [],
   "source": [
    "# Execute the organigramm script\n",
    "organigramm.start('data/organigramm-{}.json'.format(id), output_folder)"
   ]
  },
  {
   "cell_type": "code",
   "execution_count": 11,
   "metadata": {},
   "outputs": [],
   "source": [
    "# Select n best candidates for phishing from the organigramm\n",
    "meta, _, outputs = handler.read_json('data/organigramm-{}.json'.format(id))\n",
    "\n",
    "# TODO: Modularize the following loop in a method\n",
    "candidates = []\n",
    "employee_hierarchy = outputs['organigramm']['employees']\n",
    "positions = list(employee_hierarchy.keys())\n",
    "while len(candidates) < c and len(positions) > 0:\n",
    "    for candidate in employee_hierarchy[positions.pop(0)][1]:\n",
    "        if candidate not in candidates:\n",
    "            candidates.append(candidate)\n",
    "        if len(candidates) == c:\n",
    "            break\n",
    "    \n",
    "# Save the results\n",
    "inputs = {'_descriptor':'input','name':name,'domain':domain}\n",
    "output = {'_descriptor':'output','organigramm':outputs['organigramm'],'candidates':candidates}\n",
    "\n",
    "# Generate the final report with the results of the main script\n",
    "handler.write_json('data/report-{}.json'.format(id), meta, inputs, output)"
   ]
  },
  {
   "cell_type": "code",
   "execution_count": 12,
   "metadata": {},
   "outputs": [
    {
     "name": "stdout",
     "output_type": "stream",
     "text": [
      "[+] Script execution with id: 1679657374 finished. Generating PDF report...\n",
      "[+] Check the PDF report generated at output/report-1679657374.pdf\n"
     ]
    }
   ],
   "source": [
    "# Generate a pdf report with the results of the main script\n",
    "PDFGenerator = generator.PDFGenerator('./')\n",
    "PDFGenerator.set_template('templates/osint_report.html')\n",
    "print('[+] Script execution with id: {} finished. Generating PDF report...'.format(id))\n",
    "\n",
    "# Dentro de pdf:\n",
    "#  TODO: Descripcion de la empresa - LinkedIn\n",
    "#  TODO: Datos sobre la empresa (telefono, direccion...)\n",
    "\n",
    "target = {'name':name, 'domain':domain}\n",
    "\n",
    "# TODO: Get the description and data from LinkedIn\n",
    "target['title'] = 'LinkedIn title'\n",
    "target['description'] = 'LinkedIn description'\n",
    "target['data'] = {\n",
    "    'phone': '123456789',\n",
    "    'address': 'Calle 123',\n",
    "    'city': 'Madrid',\n",
    "    'country': 'Spain',\n",
    "}\n",
    "\n",
    "\n",
    "# Filter organigramm to table of directors\n",
    "stripped_organigramm = output['organigramm']\n",
    "stripped_organigramm['employees'] = {k:v for k,v in stripped_organigramm['employees'].items() if k in ['Owner','Director', 'Manager']} # TODO: change this to directors_board\n",
    "\n",
    "pdf_path = 'output/report-{}.pdf'.format(id)\n",
    "context = {'target':target, 'organigramm':stripped_organigramm, 'candidates':output['candidates']}\n",
    "if PDFGenerator.generate(context, pdf_path):\n",
    "    print('[+] Check the PDF report generated at {}'.format(pdf_path))\n",
    "else:\n",
    "    print('\\n[-] PDF report could not be generated. Still, your results are saved in data/report-{}.json'.format(id))"
   ]
  }
 ],
 "metadata": {
  "kernelspec": {
   "display_name": "Python 3.10.9 64-bit",
   "language": "python",
   "name": "python3"
  },
  "language_info": {
   "codemirror_mode": {
    "name": "ipython",
    "version": 3
   },
   "file_extension": ".py",
   "mimetype": "text/x-python",
   "name": "python",
   "nbconvert_exporter": "python",
   "pygments_lexer": "ipython3",
   "version": "3.10.9"
  },
  "orig_nbformat": 4,
  "vscode": {
   "interpreter": {
    "hash": "e7370f93d1d0cde622a1f8e1c04877d8463912d04d973331ad4851f04de6915a"
   }
  }
 },
 "nbformat": 4,
 "nbformat_minor": 2
}
