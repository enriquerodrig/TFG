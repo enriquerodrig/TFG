{
 "cells": [
  {
   "cell_type": "code",
   "execution_count": 100,
   "metadata": {},
   "outputs": [],
   "source": [
    "import sys\n",
    "import os\n",
    "\n",
    "if os.path.abspath('..') not in sys.path:\n",
    "    sys.path.append(os.path.abspath('..'))"
   ]
  },
  {
   "cell_type": "code",
   "execution_count": 101,
   "metadata": {},
   "outputs": [],
   "source": [
    "from json_handler import handler\n",
    "import dependencies.crosslinked as crosslinked"
   ]
  },
  {
   "cell_type": "code",
   "execution_count": 102,
   "metadata": {},
   "outputs": [],
   "source": [
    "inputs,outputs = handler.read_json('data.json')"
   ]
  },
  {
   "cell_type": "code",
   "execution_count": 103,
   "metadata": {},
   "outputs": [
    {
     "name": "stdout",
     "output_type": "stream",
     "text": [
      "[+] Searching for {'name': 'Example link', 'domain': 'example.com'} in google...\n",
      "\u001b[01;34m[*]\u001b[0m 0   https://www.google.com/search?q=site:linkedin.com/in+\"Example link\"&num=100&start=0 (429)\n",
      "\u001b[01;33m[*]\u001b[0m None 200 response, exiting search (429)\n",
      "[+] Searching for {'name': 'Example link', 'domain': 'example.com'} in bing...\n",
      "\u001b[01;34m[*]\u001b[0m 2   http://www.bing.com/search?q=\"Example link\"+site:linkedin.com/in&first=0 (200)\n",
      "\u001b[01;34m[*]\u001b[0m 2   http://www.bing.com/search?q=\"Example link\"+site:linkedin.com/in&first=2 (200)\n",
      "\u001b[01;34m[*]\u001b[0m 2   http://www.bing.com/search?q=\"Example link\"+site:linkedin.com/in&first=2 (200)\n",
      "\u001b[01;34m[*]\u001b[0m 2   http://www.bing.com/search?q=\"Example link\"+site:linkedin.com/in&first=2 (200)\n",
      "\u001b[01;34m[*]\u001b[0m 2   http://www.bing.com/search?q=\"Example link\"+site:linkedin.com/in&first=2 (200)\n",
      "\u001b[01;34m[*]\u001b[0m 2   http://www.bing.com/search?q=\"Example link\"+site:linkedin.com/in&first=2 (200)\n",
      "\u001b[01;34m[*]\u001b[0m 2   http://www.bing.com/search?q=\"Example link\"+site:linkedin.com/in&first=2 (200)\n",
      "\u001b[01;34m[*]\u001b[0m 2   http://www.bing.com/search?q=\"Example link\"+site:linkedin.com/in&first=2 (200)\n",
      "\u001b[01;34m[*]\u001b[0m 2   http://www.bing.com/search?q=\"Example link\"+site:linkedin.com/in&first=2 (200)\n",
      "\u001b[01;34m[*]\u001b[0m 2   http://www.bing.com/search?q=\"Example link\"+site:linkedin.com/in&first=2 (200)\n",
      "\u001b[01;34m[*]\u001b[0m 2   http://www.bing.com/search?q=\"Example link\"+site:linkedin.com/in&first=2 (200)\n",
      "\u001b[01;34m[*]\u001b[0m 2   http://www.bing.com/search?q=\"Example link\"+site:linkedin.com/in&first=2 (200)\n",
      "\u001b[01;34m[*]\u001b[0m 2   http://www.bing.com/search?q=\"Example link\"+site:linkedin.com/in&first=2 (200)\n",
      "\u001b[01;34m[*]\u001b[0m 2   http://www.bing.com/search?q=\"Example link\"+site:linkedin.com/in&first=2 (200)\n",
      "\u001b[01;34m[*]\u001b[0m 2   http://www.bing.com/search?q=\"Example link\"+site:linkedin.com/in&first=2 (200)\n",
      "\u001b[01;34m[*]\u001b[0m 2   http://www.bing.com/search?q=\"Example link\"+site:linkedin.com/in&first=2 (200)\n",
      "\u001b[01;34m[*]\u001b[0m 2   http://www.bing.com/search?q=\"Example link\"+site:linkedin.com/in&first=2 (200)\n",
      "\u001b[01;34m[*]\u001b[0m 2   http://www.bing.com/search?q=\"Example link\"+site:linkedin.com/in&first=2 (200)\n",
      "\u001b[01;34m[*]\u001b[0m 2   http://www.bing.com/search?q=\"Example link\"+site:linkedin.com/in&first=2 (200)\n",
      "\u001b[01;34m[*]\u001b[0m 2   http://www.bing.com/search?q=\"Example link\"+site:linkedin.com/in&first=2 (200)\n",
      "\u001b[01;34m[*]\u001b[0m 2   http://www.bing.com/search?q=\"Example link\"+site:linkedin.com/in&first=2 (200)\n",
      "\u001b[01;34m[*]\u001b[0m 2   http://www.bing.com/search?q=\"Example link\"+site:linkedin.com/in&first=2 (200)\n",
      "\u001b[01;34m[*]\u001b[0m 2   http://www.bing.com/search?q=\"Example link\"+site:linkedin.com/in&first=2 (200)\n",
      "\u001b[01;34m[*]\u001b[0m 2   http://www.bing.com/search?q=\"Example link\"+site:linkedin.com/in&first=2 (200)\n",
      "\u001b[01;34m[*]\u001b[0m 2   http://www.bing.com/search?q=\"Example link\"+site:linkedin.com/in&first=2 (200)\n",
      "\u001b[01;34m[*]\u001b[0m 2   http://www.bing.com/search?q=\"Example link\"+site:linkedin.com/in&first=2 (200)\n",
      "\u001b[01;34m[*]\u001b[0m 2   http://www.bing.com/search?q=\"Example link\"+site:linkedin.com/in&first=2 (200)\n",
      "\u001b[01;34m[*]\u001b[0m 2   http://www.bing.com/search?q=\"Example link\"+site:linkedin.com/in&first=2 (200)\n",
      "\u001b[01;34m[*]\u001b[0m 2   http://www.bing.com/search?q=\"Example link\"+site:linkedin.com/in&first=2 (200)\n",
      "\u001b[01;34m[*]\u001b[0m 2   http://www.bing.com/search?q=\"Example link\"+site:linkedin.com/in&first=2 (200)\n",
      "\u001b[01;34m[*]\u001b[0m 2   http://www.bing.com/search?q=\"Example link\"+site:linkedin.com/in&first=2 (200)\n",
      "\u001b[01;34m[*]\u001b[0m 2   http://www.bing.com/search?q=\"Example link\"+site:linkedin.com/in&first=2 (200)\n",
      "\u001b[01;34m[*]\u001b[0m 2   http://www.bing.com/search?q=\"Example link\"+site:linkedin.com/in&first=2 (200)\n"
     ]
    }
   ],
   "source": [
    "\n",
    "search_engines = ['google','bing']\n",
    "users_se = {}\n",
    "target = inputs['company']\n",
    "for search_engine in search_engines:\n",
    "    print('[+] Searching for {} in {}...'.format(target, search_engine))\n",
    "    scrapper = crosslinked.CrossLinked(search_engine,target['name'],15)\n",
    "    users_se[search_engine] = scrapper.search()"
   ]
  },
  {
   "cell_type": "code",
   "execution_count": 104,
   "metadata": {},
   "outputs": [
    {
     "name": "stdout",
     "output_type": "stream",
     "text": [
      "[+] 0 users found in google search engine\n",
      "[+] 2 users found in bing search engine\n",
      "[+] Script completed\n"
     ]
    }
   ],
   "source": [
    "def count_users_per_search_engine(se_dict):\n",
    "    for search_engine in se_dict:\n",
    "        print('[+] {} users found in {} search engine'.format(len(se_dict[search_engine]), search_engine))\n",
    "\n",
    "count_users_per_search_engine(users_se)\n",
    "employees = []\n",
    "for search_engine in users_se:\n",
    "    for user in users_se[search_engine]:\n",
    "        employee = {\n",
    "            'fname': user['fname'],\n",
    "            'lname': user['lname'],\n",
    "            'position': user['title'],\n",
    "        }\n",
    "        employees.append(employee)\n",
    "\n",
    "outputs['domain'] = target['domain']\n",
    "outputs['employees'] = employees\n",
    "handler.write_json('data.json', inputs, outputs)\n",
    "print('[+] Script completed')"
   ]
  }
 ],
 "metadata": {
  "kernelspec": {
   "display_name": "Python 3.10.9 64-bit",
   "language": "python",
   "name": "python3"
  },
  "language_info": {
   "codemirror_mode": {
    "name": "ipython",
    "version": 3
   },
   "file_extension": ".py",
   "mimetype": "text/x-python",
   "name": "python",
   "nbconvert_exporter": "python",
   "pygments_lexer": "ipython3",
   "version": "3.10.9"
  },
  "orig_nbformat": 4,
  "vscode": {
   "interpreter": {
    "hash": "e7370f93d1d0cde622a1f8e1c04877d8463912d04d973331ad4851f04de6915a"
   }
  }
 },
 "nbformat": 4,
 "nbformat_minor": 2
}
